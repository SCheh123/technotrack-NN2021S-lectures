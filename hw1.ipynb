{
  "cells": [
    {
      "cell_type": "markdown",
      "metadata": {
        "id": "view-in-github",
        "colab_type": "text"
      },
      "source": [
        "<a href=\"https://colab.research.google.com/github/SCheh123/technotrack-NN2021S-lectures/blob/main/hw1.ipynb\" target=\"_parent\"><img src=\"https://colab.research.google.com/assets/colab-badge.svg\" alt=\"Open In Colab\"/></a>"
      ]
    },
    {
      "cell_type": "code",
      "execution_count": 1,
      "metadata": {
        "id": "22bb5d6f-8748-439f-9f4e-89b7b11cbe9e"
      },
      "outputs": [],
      "source": [
        "import numpy as np\n",
        "from tqdm import tqdm\n",
        "\n",
        "%matplotlib inline\n",
        "\n",
        "import matplotlib.pyplot as plt\n",
        "\n"
      ],
      "id": "22bb5d6f-8748-439f-9f4e-89b7b11cbe9e"
    },
    {
      "cell_type": "code",
      "execution_count": 2,
      "metadata": {
        "colab": {
          "base_uri": "https://localhost:8080/"
        },
        "id": "7y49Ep9Tni-R",
        "outputId": "5f0e706b-9f9e-4b86-fa26-6a8772bec759"
      },
      "outputs": [
        {
          "output_type": "stream",
          "name": "stdout",
          "text": [
            "Mounted at /content/drive\n"
          ]
        }
      ],
      "source": [
        "from google.colab import drive\n",
        "drive.mount('/content/drive')\n"
      ],
      "id": "7y49Ep9Tni-R"
    },
    {
      "cell_type": "code",
      "source": [
        "cd drive/MyDrive/Colab Notebooks/"
      ],
      "metadata": {
        "colab": {
          "base_uri": "https://localhost:8080/"
        },
        "id": "6b-MMnnEdjHw",
        "outputId": "a83c63a3-b6b3-4ece-fd4a-116cef1b688c"
      },
      "id": "6b-MMnnEdjHw",
      "execution_count": 3,
      "outputs": [
        {
          "output_type": "stream",
          "name": "stdout",
          "text": [
            "/content/drive/MyDrive/Colab Notebooks\n"
          ]
        }
      ]
    },
    {
      "cell_type": "code",
      "execution_count": 4,
      "metadata": {
        "colab": {
          "base_uri": "https://localhost:8080/"
        },
        "id": "pEn9byk9kCmX",
        "outputId": "b06bd265-2c6d-4d32-9f63-0b9bf8cc55ed"
      },
      "outputs": [
        {
          "output_type": "stream",
          "name": "stdout",
          "text": [
            "Fri Feb 25 16:03:14 2022       \n",
            "+-----------------------------------------------------------------------------+\n",
            "| NVIDIA-SMI 460.32.03    Driver Version: 460.32.03    CUDA Version: 11.2     |\n",
            "|-------------------------------+----------------------+----------------------+\n",
            "| GPU  Name        Persistence-M| Bus-Id        Disp.A | Volatile Uncorr. ECC |\n",
            "| Fan  Temp  Perf  Pwr:Usage/Cap|         Memory-Usage | GPU-Util  Compute M. |\n",
            "|                               |                      |               MIG M. |\n",
            "|===============================+======================+======================|\n",
            "|   0  Tesla K80           Off  | 00000000:00:04.0 Off |                    0 |\n",
            "| N/A   58C    P8    31W / 149W |      0MiB / 11441MiB |      0%      Default |\n",
            "|                               |                      |                  N/A |\n",
            "+-------------------------------+----------------------+----------------------+\n",
            "                                                                               \n",
            "+-----------------------------------------------------------------------------+\n",
            "| Processes:                                                                  |\n",
            "|  GPU   GI   CI        PID   Type   Process name                  GPU Memory |\n",
            "|        ID   ID                                                   Usage      |\n",
            "|=============================================================================|\n",
            "|  No running processes found                                                 |\n",
            "+-----------------------------------------------------------------------------+\n"
          ]
        }
      ],
      "source": [
        "!nvidia-smi\n"
      ],
      "id": "pEn9byk9kCmX"
    },
    {
      "cell_type": "code",
      "execution_count": 5,
      "metadata": {
        "id": "Ayf-Ius5j3UP"
      },
      "outputs": [],
      "source": [
        "\n",
        "\n",
        "Xtr = np.load('x.npy')\n",
        "ytr = np.load('y_train.npy')\n",
        "\n",
        "Xtr=np.column_stack((np.ones((Xtr.shape[0],1)),Xtr))\n"
      ],
      "id": "Ayf-Ius5j3UP"
    },
    {
      "cell_type": "code",
      "execution_count": 6,
      "metadata": {
        "id": "a7e2a79c"
      },
      "outputs": [],
      "source": [
        "class Differentiable:\n",
        "    def __init__(self):\n",
        "        pass\n",
        "    \n",
        "    def forward(self, **kwargs):\n",
        "        raise NotImplementedError()\n",
        "    \n",
        "    def backward(self, **kwargs):\n",
        "        raise NotImplementedError()\n",
        "        "
      ],
      "id": "a7e2a79c"
    },
    {
      "cell_type": "code",
      "execution_count": 7,
      "metadata": {
        "id": "f5af6ed1"
      },
      "outputs": [],
      "source": [
        "class loss(Differentiable):\n",
        "    def __init__(self):\n",
        "        super(loss, self).__init__()\n",
        "    \n",
        "    def forward(self, y_pred, y_true):\n",
        "        # Этот метод реализует вычисление значения функции потерь\n",
        "        # Подсказка: метод должен возвращать единственный скаляр - значение функции потерь\n",
        "        loss_value = 0.0\n",
        "        \n",
        "        ### YOUR CODE HERE\n",
        "        loss_value = sum((y_pred-y_true)*(y_pred-y_true))/y_true.size\n",
        "               \n",
        "        return loss_value\n",
        "    \n",
        "    \n",
        "    def backward(self, y_pred, y_true):\n",
        "        # Этот метод реализует вычисление градиента функции потерь по аргументу y_pred\n",
        "        # Подсказка: метод должен возвращать вектор градиента функции потерь\n",
        "        #           размерностью, совпадающей с размерностью аргумента y_pred\n",
        "        \n",
        "        partial_grad = np.zeros_like(y_pred-y_true)\n",
        "        \n",
        "        ### YOUR CODE HERE\n",
        "        partial_grad =y_pred-y_true\n",
        "\n",
        "        \n",
        "        return partial_grad\n",
        "    "
      ],
      "id": "f5af6ed1"
    },
    {
      "cell_type": "code",
      "execution_count": 8,
      "metadata": {
        "id": "5bf1a849"
      },
      "outputs": [],
      "source": [
        "class linear_regression(Differentiable):\n",
        "    def __init__(self):\n",
        "        super(linear_regression, self).__init__()\n",
        "        self.theta = None\n",
        "    \n",
        "    def __call__(self, X):\n",
        "        # этот метод предназначен для вычисления значения целевой переменной\n",
        "        return self.forward(X)\n",
        "    \n",
        "    def backward(self, X):\n",
        "        # Этот метод реализует вычисление компоненты градиента функции потерь\n",
        "        \n",
        "        partial_grad = 0.0\n",
        "        \n",
        "        ### YOUR CODE HERE\n",
        "        \n",
        "        #partial_grad =///\n",
        "        \n",
        "        return partial_grad\n",
        "    \n",
        "    def forward(self, X):\n",
        "        # этот метод предназначен для применения модели к данным\n",
        "        assert X.ndim == 2, \"X should be 2-dimensional: (N of objects, n of features)\"\n",
        "        \n",
        "        if (self.theta is None):\n",
        "            # Если вектор параметров еще не инициализирован, его следует инициализировать\n",
        "            # Подсказка: длина вектора параметров может быть получена из размера матрицы X\n",
        "            self.theta = 0.0\n",
        "            \n",
        "            ### YOUR CODE HERE\n",
        "            self.theta = np.zeros((X.shape[1],1)) \n",
        "            \n",
        "            \n",
        "        # Здесь следует собственно применить модель к входным данным\n",
        "        # Подсказка: удобно расширить матрицу X дополнительным признаком,\n",
        "        #            чтобы применять матричные операции, очень эффективно реализованные в numpy\n",
        "        \n",
        "        y_pred = 0.0\n",
        "        \n",
        "        ### YOUR CODE HERE\n",
        "        y_pred = np.matmul(X,self.theta)\n",
        "        \n",
        "        return y_pred\n",
        " \n",
        " "
      ],
      "id": "5bf1a849"
    },
    {
      "cell_type": "code",
      "execution_count": 9,
      "metadata": {
        "id": "c42e01d7"
      },
      "outputs": [],
      "source": [
        "def train_loop(X, y, model, loss_fn, epochs):\n",
        "    loss_history = []\n",
        "    a=0.8\n",
        "    pbar = tqdm(total=epochs)\n",
        "    for epoch in range(epochs):\n",
        "        # В этом цикле следует реализовать итеративную процедуру оптимизации параметров модели model,\n",
        "        #        руководствуясь функцией потерь loss_fn\n",
        "        \n",
        "        ### YOUR CODE HERE\n",
        "        \n",
        "        y_pred=model.forward(X)\n",
        "        Theta=model.theta\n",
        "        diff=loss_fn.backward(y_pred, y)\n",
        "        #y_pred=np.matmul(X,Theta)\n",
        "        loss_value = loss_fn.forward(y_pred, y)\n",
        "        #temp=loss.backward(y_pred, y)\n",
        "        \n",
        "        grad =2 * np.matmul(np.transpose(X),diff)/y.size\n",
        "        model.theta = model.theta - a * grad\n",
        "        Theta=model.theta\n",
        "        loss_history.append(loss_value)\n",
        "        pbar.update(1)\n",
        "        pbar.set_postfix({'loss': loss_value})\n",
        "    pbar.close()\n",
        "    return loss_history"
      ],
      "id": "c42e01d7"
    },
    {
      "cell_type": "code",
      "execution_count": 10,
      "metadata": {
        "colab": {
          "base_uri": "https://localhost:8080/",
          "height": 300
        },
        "id": "a8a4e8db",
        "outputId": "e4506c4d-1694-49f8-c808-8fc4c43e4336"
      },
      "outputs": [
        {
          "output_type": "stream",
          "name": "stderr",
          "text": [
            "100%|██████████| 10000/10000 [03:04<00:00, 54.09it/s, loss=[51.89822988]]\n"
          ]
        },
        {
          "output_type": "execute_result",
          "data": {
            "text/plain": [
              "[<matplotlib.lines.Line2D at 0x7fc5f6485b90>]"
            ]
          },
          "metadata": {},
          "execution_count": 10
        },
        {
          "output_type": "display_data",
          "data": {
            "image/png": "[encoded data removed]",
            "text/plain": [
              "<Figure size 432x288 with 1 Axes>"
            ]
          },
          "metadata": {
            "needs_background": "light"
          }
        }
      ],
      "source": [
        "obj_fn = loss()\n",
        "lr_model = linear_regression()\n",
        "loss_history = train_loop(Xtr, ytr, lr_model, obj_fn, 10000)\n",
        "plt.plot(loss_history)"
      ],
      "id": "a8a4e8db"
    },
    {
      "cell_type": "code",
      "execution_count": null,
      "metadata": {
        "id": "3252857e-a3de-41a8-96fc-01cf65a71848"
      },
      "outputs": [],
      "source": [
        ""
      ],
      "id": "3252857e-a3de-41a8-96fc-01cf65a71848"
    },
    {
      "cell_type": "code",
      "execution_count": null,
      "metadata": {
        "id": "926cfe3a-df57-4118-b2a1-5acfd3951e2d"
      },
      "outputs": [],
      "source": [
        ""
      ],
      "id": "926cfe3a-df57-4118-b2a1-5acfd3951e2d"
    }
  ],
  "metadata": {
    "accelerator": "GPU",
    "colab": {
      "collapsed_sections": [],
      "name": "hw1.ipynb",
      "provenance": [],
      "include_colab_link": true
    },
    "kernelspec": {
      "display_name": "Python 3 (ipykernel)",
      "language": "python",
      "name": "python3"
    },
    "language_info": {
      "codemirror_mode": {
        "name": "ipython",
        "version": 3
      },
      "file_extension": ".py",
      "mimetype": "text/x-python",
      "name": "python",
      "nbconvert_exporter": "python",
      "pygments_lexer": "ipython3",
      "version": "3.7.4"
    }
  },
  "nbformat": 4,
  "nbformat_minor": 5
}